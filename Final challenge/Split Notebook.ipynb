{
 "cells": [
  {
   "cell_type": "markdown",
   "metadata": {},
   "source": [
    "# Notebok di split"
   ]
  },
  {
   "cell_type": "code",
   "execution_count": 2,
   "metadata": {},
   "outputs": [
    {
     "name": "stdout",
     "output_type": "stream",
     "text": [
      "Requirement already satisfied: numpy==1.18.1 in c:\\users\\david\\anaconda3\\lib\\site-packages (from -r requirements.txt (line 1)) (1.18.1)\n",
      "Requirement already satisfied: pandas==1.0.3 in c:\\users\\david\\anaconda3\\lib\\site-packages (from -r requirements.txt (line 2)) (1.0.3)\n",
      "Requirement already satisfied: scikit-learn==0.23.1 in c:\\users\\david\\anaconda3\\lib\\site-packages (from -r requirements.txt (line 3)) (0.23.1)\n",
      "Requirement already satisfied: seaborn==0.10.1 in c:\\users\\david\\anaconda3\\lib\\site-packages (from -r requirements.txt (line 4)) (0.10.1)\n",
      "Requirement already satisfied: python-dateutil>=2.6.1 in c:\\users\\david\\anaconda3\\lib\\site-packages (from pandas==1.0.3->-r requirements.txt (line 2)) (2.8.1)\n",
      "Requirement already satisfied: pytz>=2017.2 in c:\\users\\david\\anaconda3\\lib\\site-packages (from pandas==1.0.3->-r requirements.txt (line 2)) (2020.1)\n",
      "Requirement already satisfied: scipy>=0.19.1 in c:\\users\\david\\anaconda3\\lib\\site-packages (from scikit-learn==0.23.1->-r requirements.txt (line 3)) (1.4.1)\n",
      "Requirement already satisfied: joblib>=0.11 in c:\\users\\david\\anaconda3\\lib\\site-packages (from scikit-learn==0.23.1->-r requirements.txt (line 3)) (0.15.1)\n",
      "Requirement already satisfied: threadpoolctl>=2.0.0 in c:\\users\\david\\anaconda3\\lib\\site-packages (from scikit-learn==0.23.1->-r requirements.txt (line 3)) (2.0.0)\n",
      "Requirement already satisfied: matplotlib>=2.1.2 in c:\\users\\david\\anaconda3\\lib\\site-packages (from seaborn==0.10.1->-r requirements.txt (line 4)) (3.1.3)\n",
      "Requirement already satisfied: six>=1.5 in c:\\users\\david\\anaconda3\\lib\\site-packages (from python-dateutil>=2.6.1->pandas==1.0.3->-r requirements.txt (line 2)) (1.14.0)\n",
      "Requirement already satisfied: kiwisolver>=1.0.1 in c:\\users\\david\\anaconda3\\lib\\site-packages (from matplotlib>=2.1.2->seaborn==0.10.1->-r requirements.txt (line 4)) (1.2.0)\n",
      "Requirement already satisfied: pyparsing!=2.0.4,!=2.1.2,!=2.1.6,>=2.0.1 in c:\\users\\david\\anaconda3\\lib\\site-packages (from matplotlib>=2.1.2->seaborn==0.10.1->-r requirements.txt (line 4)) (2.4.7)\n",
      "Requirement already satisfied: cycler>=0.10 in c:\\users\\david\\anaconda3\\lib\\site-packages (from matplotlib>=2.1.2->seaborn==0.10.1->-r requirements.txt (line 4)) (0.10.0)\n"
     ]
    }
   ],
   "source": [
    "!pip install -r requirements.txt"
   ]
  },
  {
   "cell_type": "code",
   "execution_count": 3,
   "metadata": {},
   "outputs": [],
   "source": [
    "import pandas as pd\n",
    "from sklearn.model_selection import train_test_split"
   ]
  },
  {
   "cell_type": "code",
   "execution_count": 4,
   "metadata": {},
   "outputs": [
    {
     "data": {
      "text/html": [
       "<div>\n",
       "<style scoped>\n",
       "    .dataframe tbody tr th:only-of-type {\n",
       "        vertical-align: middle;\n",
       "    }\n",
       "\n",
       "    .dataframe tbody tr th {\n",
       "        vertical-align: top;\n",
       "    }\n",
       "\n",
       "    .dataframe thead th {\n",
       "        text-align: right;\n",
       "    }\n",
       "</style>\n",
       "<table border=\"1\" class=\"dataframe\">\n",
       "  <thead>\n",
       "    <tr style=\"text-align: right;\">\n",
       "      <th></th>\n",
       "      <th>No-show</th>\n",
       "      <th>PatientId</th>\n",
       "      <th>AppointmentID</th>\n",
       "      <th>Gender</th>\n",
       "      <th>ScheduledDay</th>\n",
       "      <th>AppointmentDay</th>\n",
       "      <th>Age</th>\n",
       "      <th>Neighbourhood</th>\n",
       "      <th>Scholarship</th>\n",
       "      <th>Hipertension</th>\n",
       "      <th>Diabetes</th>\n",
       "      <th>Alcoholism</th>\n",
       "      <th>Handcap</th>\n",
       "      <th>SMS_received</th>\n",
       "    </tr>\n",
       "  </thead>\n",
       "  <tbody>\n",
       "    <tr>\n",
       "      <th>0</th>\n",
       "      <td>No</td>\n",
       "      <td>1.328492e+12</td>\n",
       "      <td>5687610</td>\n",
       "      <td>F</td>\n",
       "      <td>2016-05-11T16:00:16Z</td>\n",
       "      <td>2016-05-19T00:00:00Z</td>\n",
       "      <td>25</td>\n",
       "      <td>MATA DA PRAIA</td>\n",
       "      <td>0</td>\n",
       "      <td>0</td>\n",
       "      <td>0</td>\n",
       "      <td>0</td>\n",
       "      <td>0</td>\n",
       "      <td>0</td>\n",
       "    </tr>\n",
       "    <tr>\n",
       "      <th>1</th>\n",
       "      <td>No</td>\n",
       "      <td>3.881869e+14</td>\n",
       "      <td>5694484</td>\n",
       "      <td>M</td>\n",
       "      <td>2016-05-13T08:41:27Z</td>\n",
       "      <td>2016-05-17T00:00:00Z</td>\n",
       "      <td>62</td>\n",
       "      <td>FRADINHOS</td>\n",
       "      <td>0</td>\n",
       "      <td>0</td>\n",
       "      <td>0</td>\n",
       "      <td>0</td>\n",
       "      <td>0</td>\n",
       "      <td>0</td>\n",
       "    </tr>\n",
       "    <tr>\n",
       "      <th>2</th>\n",
       "      <td>Yes</td>\n",
       "      <td>9.118992e+12</td>\n",
       "      <td>5500939</td>\n",
       "      <td>F</td>\n",
       "      <td>2016-03-22T11:09:38Z</td>\n",
       "      <td>2016-05-09T00:00:00Z</td>\n",
       "      <td>65</td>\n",
       "      <td>JARDIM CAMBURI</td>\n",
       "      <td>0</td>\n",
       "      <td>0</td>\n",
       "      <td>0</td>\n",
       "      <td>0</td>\n",
       "      <td>0</td>\n",
       "      <td>0</td>\n",
       "    </tr>\n",
       "    <tr>\n",
       "      <th>3</th>\n",
       "      <td>No</td>\n",
       "      <td>1.843618e+14</td>\n",
       "      <td>5639080</td>\n",
       "      <td>M</td>\n",
       "      <td>2016-04-29T08:42:15Z</td>\n",
       "      <td>2016-04-29T00:00:00Z</td>\n",
       "      <td>41</td>\n",
       "      <td>MARIA ORTIZ</td>\n",
       "      <td>0</td>\n",
       "      <td>0</td>\n",
       "      <td>0</td>\n",
       "      <td>0</td>\n",
       "      <td>0</td>\n",
       "      <td>0</td>\n",
       "    </tr>\n",
       "    <tr>\n",
       "      <th>4</th>\n",
       "      <td>No</td>\n",
       "      <td>5.783198e+13</td>\n",
       "      <td>5671566</td>\n",
       "      <td>M</td>\n",
       "      <td>2016-05-06T18:47:52Z</td>\n",
       "      <td>2016-05-09T00:00:00Z</td>\n",
       "      <td>61</td>\n",
       "      <td>MARUÍPE</td>\n",
       "      <td>0</td>\n",
       "      <td>1</td>\n",
       "      <td>0</td>\n",
       "      <td>1</td>\n",
       "      <td>0</td>\n",
       "      <td>0</td>\n",
       "    </tr>\n",
       "    <tr>\n",
       "      <th>...</th>\n",
       "      <td>...</td>\n",
       "      <td>...</td>\n",
       "      <td>...</td>\n",
       "      <td>...</td>\n",
       "      <td>...</td>\n",
       "      <td>...</td>\n",
       "      <td>...</td>\n",
       "      <td>...</td>\n",
       "      <td>...</td>\n",
       "      <td>...</td>\n",
       "      <td>...</td>\n",
       "      <td>...</td>\n",
       "      <td>...</td>\n",
       "      <td>...</td>\n",
       "    </tr>\n",
       "    <tr>\n",
       "      <th>88416</th>\n",
       "      <td>No</td>\n",
       "      <td>4.876245e+11</td>\n",
       "      <td>5664593</td>\n",
       "      <td>F</td>\n",
       "      <td>2016-05-05T12:58:06Z</td>\n",
       "      <td>2016-05-10T00:00:00Z</td>\n",
       "      <td>63</td>\n",
       "      <td>SÃO PEDRO</td>\n",
       "      <td>0</td>\n",
       "      <td>1</td>\n",
       "      <td>1</td>\n",
       "      <td>0</td>\n",
       "      <td>0</td>\n",
       "      <td>1</td>\n",
       "    </tr>\n",
       "    <tr>\n",
       "      <th>88417</th>\n",
       "      <td>No</td>\n",
       "      <td>3.911649e+12</td>\n",
       "      <td>5622779</td>\n",
       "      <td>M</td>\n",
       "      <td>2016-04-26T13:03:23Z</td>\n",
       "      <td>2016-06-01T00:00:00Z</td>\n",
       "      <td>31</td>\n",
       "      <td>MARIA ORTIZ</td>\n",
       "      <td>0</td>\n",
       "      <td>0</td>\n",
       "      <td>0</td>\n",
       "      <td>0</td>\n",
       "      <td>0</td>\n",
       "      <td>0</td>\n",
       "    </tr>\n",
       "    <tr>\n",
       "      <th>88418</th>\n",
       "      <td>No</td>\n",
       "      <td>4.973443e+11</td>\n",
       "      <td>5762864</td>\n",
       "      <td>F</td>\n",
       "      <td>2016-06-02T08:16:03Z</td>\n",
       "      <td>2016-06-08T00:00:00Z</td>\n",
       "      <td>38</td>\n",
       "      <td>ANDORINHAS</td>\n",
       "      <td>0</td>\n",
       "      <td>0</td>\n",
       "      <td>0</td>\n",
       "      <td>0</td>\n",
       "      <td>0</td>\n",
       "      <td>0</td>\n",
       "    </tr>\n",
       "    <tr>\n",
       "      <th>88419</th>\n",
       "      <td>No</td>\n",
       "      <td>2.623493e+14</td>\n",
       "      <td>5639951</td>\n",
       "      <td>F</td>\n",
       "      <td>2016-04-29T09:52:19Z</td>\n",
       "      <td>2016-04-29T00:00:00Z</td>\n",
       "      <td>18</td>\n",
       "      <td>MARUÍPE</td>\n",
       "      <td>1</td>\n",
       "      <td>0</td>\n",
       "      <td>0</td>\n",
       "      <td>0</td>\n",
       "      <td>0</td>\n",
       "      <td>0</td>\n",
       "    </tr>\n",
       "    <tr>\n",
       "      <th>88420</th>\n",
       "      <td>No</td>\n",
       "      <td>1.821131e+14</td>\n",
       "      <td>5637593</td>\n",
       "      <td>M</td>\n",
       "      <td>2016-04-29T07:10:42Z</td>\n",
       "      <td>2016-05-11T00:00:00Z</td>\n",
       "      <td>9</td>\n",
       "      <td>ILHA DO PRÍNCIPE</td>\n",
       "      <td>1</td>\n",
       "      <td>0</td>\n",
       "      <td>0</td>\n",
       "      <td>0</td>\n",
       "      <td>0</td>\n",
       "      <td>1</td>\n",
       "    </tr>\n",
       "  </tbody>\n",
       "</table>\n",
       "<p>88421 rows × 14 columns</p>\n",
       "</div>"
      ],
      "text/plain": [
       "      No-show     PatientId  AppointmentID Gender          ScheduledDay  \\\n",
       "0          No  1.328492e+12        5687610      F  2016-05-11T16:00:16Z   \n",
       "1          No  3.881869e+14        5694484      M  2016-05-13T08:41:27Z   \n",
       "2         Yes  9.118992e+12        5500939      F  2016-03-22T11:09:38Z   \n",
       "3          No  1.843618e+14        5639080      M  2016-04-29T08:42:15Z   \n",
       "4          No  5.783198e+13        5671566      M  2016-05-06T18:47:52Z   \n",
       "...       ...           ...            ...    ...                   ...   \n",
       "88416      No  4.876245e+11        5664593      F  2016-05-05T12:58:06Z   \n",
       "88417      No  3.911649e+12        5622779      M  2016-04-26T13:03:23Z   \n",
       "88418      No  4.973443e+11        5762864      F  2016-06-02T08:16:03Z   \n",
       "88419      No  2.623493e+14        5639951      F  2016-04-29T09:52:19Z   \n",
       "88420      No  1.821131e+14        5637593      M  2016-04-29T07:10:42Z   \n",
       "\n",
       "             AppointmentDay  Age     Neighbourhood  Scholarship  Hipertension  \\\n",
       "0      2016-05-19T00:00:00Z   25     MATA DA PRAIA            0             0   \n",
       "1      2016-05-17T00:00:00Z   62         FRADINHOS            0             0   \n",
       "2      2016-05-09T00:00:00Z   65    JARDIM CAMBURI            0             0   \n",
       "3      2016-04-29T00:00:00Z   41       MARIA ORTIZ            0             0   \n",
       "4      2016-05-09T00:00:00Z   61           MARUÍPE            0             1   \n",
       "...                     ...  ...               ...          ...           ...   \n",
       "88416  2016-05-10T00:00:00Z   63         SÃO PEDRO            0             1   \n",
       "88417  2016-06-01T00:00:00Z   31       MARIA ORTIZ            0             0   \n",
       "88418  2016-06-08T00:00:00Z   38        ANDORINHAS            0             0   \n",
       "88419  2016-04-29T00:00:00Z   18           MARUÍPE            1             0   \n",
       "88420  2016-05-11T00:00:00Z    9  ILHA DO PRÍNCIPE            1             0   \n",
       "\n",
       "       Diabetes  Alcoholism  Handcap  SMS_received  \n",
       "0             0           0        0             0  \n",
       "1             0           0        0             0  \n",
       "2             0           0        0             0  \n",
       "3             0           0        0             0  \n",
       "4             0           1        0             0  \n",
       "...         ...         ...      ...           ...  \n",
       "88416         1           0        0             1  \n",
       "88417         0           0        0             0  \n",
       "88418         0           0        0             0  \n",
       "88419         0           0        0             0  \n",
       "88420         0           0        0             1  \n",
       "\n",
       "[88421 rows x 14 columns]"
      ]
     },
     "execution_count": 4,
     "metadata": {},
     "output_type": "execute_result"
    }
   ],
   "source": [
    "data = pd.read_csv('appointment_data.csv')\n",
    "data"
   ]
  },
  {
   "cell_type": "markdown",
   "metadata": {},
   "source": [
    "## Prima analisi preliminare"
   ]
  },
  {
   "cell_type": "code",
   "execution_count": 5,
   "metadata": {},
   "outputs": [
    {
     "name": "stdout",
     "output_type": "stream",
     "text": [
      "<class 'pandas.core.frame.DataFrame'>\n",
      "RangeIndex: 88421 entries, 0 to 88420\n",
      "Data columns (total 14 columns):\n",
      " #   Column          Non-Null Count  Dtype  \n",
      "---  ------          --------------  -----  \n",
      " 0   No-show         88421 non-null  object \n",
      " 1   PatientId       88421 non-null  float64\n",
      " 2   AppointmentID   88421 non-null  int64  \n",
      " 3   Gender          88421 non-null  object \n",
      " 4   ScheduledDay    88421 non-null  object \n",
      " 5   AppointmentDay  88421 non-null  object \n",
      " 6   Age             88421 non-null  int64  \n",
      " 7   Neighbourhood   88421 non-null  object \n",
      " 8   Scholarship     88421 non-null  int64  \n",
      " 9   Hipertension    88421 non-null  int64  \n",
      " 10  Diabetes        88421 non-null  int64  \n",
      " 11  Alcoholism      88421 non-null  int64  \n",
      " 12  Handcap         88421 non-null  int64  \n",
      " 13  SMS_received    88421 non-null  int64  \n",
      "dtypes: float64(1), int64(8), object(5)\n",
      "memory usage: 9.4+ MB\n"
     ]
    }
   ],
   "source": [
    "data.info()"
   ]
  },
  {
   "cell_type": "code",
   "execution_count": 6,
   "metadata": {},
   "outputs": [
    {
     "data": {
      "text/plain": [
       "No-show            object\n",
       "PatientId         float64\n",
       "AppointmentID       int64\n",
       "Gender             object\n",
       "ScheduledDay       object\n",
       "AppointmentDay     object\n",
       "Age                 int64\n",
       "Neighbourhood      object\n",
       "Scholarship         int64\n",
       "Hipertension        int64\n",
       "Diabetes            int64\n",
       "Alcoholism          int64\n",
       "Handcap             int64\n",
       "SMS_received        int64\n",
       "dtype: object"
      ]
     },
     "execution_count": 6,
     "metadata": {},
     "output_type": "execute_result"
    }
   ],
   "source": [
    "data.dtypes"
   ]
  },
  {
   "cell_type": "code",
   "execution_count": 7,
   "metadata": {},
   "outputs": [
    {
     "data": {
      "text/plain": [
       "No-show               2\n",
       "PatientId         54105\n",
       "AppointmentID     88421\n",
       "Gender                2\n",
       "ScheduledDay      83840\n",
       "AppointmentDay       27\n",
       "Age                 103\n",
       "Neighbourhood        81\n",
       "Scholarship           2\n",
       "Hipertension          2\n",
       "Diabetes              2\n",
       "Alcoholism            2\n",
       "Handcap               5\n",
       "SMS_received          2\n",
       "dtype: int64"
      ]
     },
     "execution_count": 7,
     "metadata": {},
     "output_type": "execute_result"
    }
   ],
   "source": [
    "data.nunique()"
   ]
  },
  {
   "cell_type": "code",
   "execution_count": 8,
   "metadata": {},
   "outputs": [
    {
     "data": {
      "text/plain": [
       "No-show           0\n",
       "PatientId         0\n",
       "AppointmentID     0\n",
       "Gender            0\n",
       "ScheduledDay      0\n",
       "AppointmentDay    0\n",
       "Age               0\n",
       "Neighbourhood     0\n",
       "Scholarship       0\n",
       "Hipertension      0\n",
       "Diabetes          0\n",
       "Alcoholism        0\n",
       "Handcap           0\n",
       "SMS_received      0\n",
       "dtype: int64"
      ]
     },
     "execution_count": 8,
     "metadata": {},
     "output_type": "execute_result"
    }
   ],
   "source": [
    "data.isnull().sum(axis = 0)"
   ]
  },
  {
   "cell_type": "markdown",
   "metadata": {},
   "source": [
    "# Split dei dati e creazione file .csv"
   ]
  },
  {
   "cell_type": "code",
   "execution_count": 9,
   "metadata": {},
   "outputs": [],
   "source": [
    "y = data['No-show']\n",
    "data = data.drop(labels=['No-show'], axis=1)"
   ]
  },
  {
   "cell_type": "code",
   "execution_count": 10,
   "metadata": {},
   "outputs": [],
   "source": [
    "train_data, test_data, y_train, y_test = train_test_split(data, y, train_size=0.8, test_size=0.2,)"
   ]
  },
  {
   "cell_type": "code",
   "execution_count": 11,
   "metadata": {},
   "outputs": [],
   "source": [
    "train = pd.concat([train_data, y_train], axis=1)\n",
    "test = pd.concat([test_data, y_test], axis=1)"
   ]
  },
  {
   "cell_type": "code",
   "execution_count": 12,
   "metadata": {},
   "outputs": [],
   "source": [
    "train.to_csv('train.csv', index=False)\n",
    "test.to_csv('test.csv', index=False)"
   ]
  }
 ],
 "metadata": {
  "kernelspec": {
   "display_name": "Python 3",
   "language": "python",
   "name": "python3"
  },
  "language_info": {
   "codemirror_mode": {
    "name": "ipython",
    "version": 3
   },
   "file_extension": ".py",
   "mimetype": "text/x-python",
   "name": "python",
   "nbconvert_exporter": "python",
   "pygments_lexer": "ipython3",
   "version": "3.7.7"
  }
 },
 "nbformat": 4,
 "nbformat_minor": 4
}
