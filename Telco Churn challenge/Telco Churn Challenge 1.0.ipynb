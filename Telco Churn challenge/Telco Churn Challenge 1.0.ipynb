{
 "cells": [
  {
   "cell_type": "markdown",
   "metadata": {},
   "source": [
    "# Telco Curn challenge"
   ]
  },
  {
   "cell_type": "markdown",
   "metadata": {},
   "source": [
    "# 1) Analisi dei dati"
   ]
  },
  {
   "cell_type": "code",
   "execution_count": 1,
   "metadata": {},
   "outputs": [],
   "source": [
    "import pandas as pd\n",
    "\n",
    "telco = pd.read_csv('telco_churn_train.csv')\n",
    "\n",
    "telco['Churn'] = telco['Churn'].replace('No', 0)\n",
    "telco['Churn'] = telco['Churn'].replace('Yes', 1)\n",
    "telco = telco.drop(labels=['customerID'], axis=1)\n",
    "\n",
    "to_delete = telco.loc[telco.TotalCharges == ' ']\n",
    "\n",
    "for i in to_delete.index:\n",
    "    telco.drop(i, inplace=True)"
   ]
  },
  {
   "cell_type": "code",
   "execution_count": 2,
   "metadata": {},
   "outputs": [],
   "source": [
    "object_cols = []\n",
    "for name in telco.columns:\n",
    "    if telco[name].dtypes=='object':\n",
    "        object_cols.append(name)"
   ]
  },
  {
   "cell_type": "code",
   "execution_count": 3,
   "metadata": {},
   "outputs": [
    {
     "data": {
      "text/plain": [
       "[\"Unique values in column gender: ['Female' 'Male']\",\n",
       " \"Unique values in column Partner: ['No' 'Yes']\",\n",
       " \"Unique values in column Dependents: ['Yes' 'No']\",\n",
       " \"Unique values in column PhoneService: ['Yes' 'No']\",\n",
       " \"Unique values in column MultipleLines: ['No' 'Yes' 'No phone service']\",\n",
       " \"Unique values in column InternetService: ['DSL' 'Fiber optic' 'No']\",\n",
       " \"Unique values in column OnlineSecurity: ['Yes' 'No' 'No internet service']\",\n",
       " \"Unique values in column OnlineBackup: ['No' 'Yes' 'No internet service']\",\n",
       " \"Unique values in column DeviceProtection: ['Yes' 'No' 'No internet service']\",\n",
       " \"Unique values in column TechSupport: ['No' 'No internet service' 'Yes']\",\n",
       " \"Unique values in column StreamingTV: ['No' 'Yes' 'No internet service']\",\n",
       " \"Unique values in column StreamingMovies: ['Yes' 'No' 'No internet service']\",\n",
       " \"Unique values in column Contract: ['One year' 'Two year' 'Month-to-month']\",\n",
       " \"Unique values in column PaperlessBilling: ['No' 'Yes']\",\n",
       " \"Unique values in column PaymentMethod: ['Mailed check' 'Bank transfer (automatic)' 'Electronic check'\\n 'Credit card (automatic)']\",\n",
       " \"Unique values in column TotalCharges: ['1336.8' '5129.45' '23.45' ... '306.05' '1200.15' '457.3']\"]"
      ]
     },
     "execution_count": 3,
     "metadata": {},
     "output_type": "execute_result"
    }
   ],
   "source": [
    "unique_cat_values = []\n",
    "for name in object_cols:\n",
    "    unique_cat_values.append('Unique values in column ' + name + ': ' + str(telco[name].unique()))\n",
    "    \n",
    "unique_cat_values"
   ]
  },
  {
   "cell_type": "code",
   "execution_count": 4,
   "metadata": {},
   "outputs": [
    {
     "data": {
      "text/plain": [
       "0    4128\n",
       "1    1496\n",
       "Name: Churn, dtype: int64"
      ]
     },
     "execution_count": 4,
     "metadata": {},
     "output_type": "execute_result"
    }
   ],
   "source": [
    "telco['Churn'].value_counts()"
   ]
  },
  {
   "cell_type": "code",
   "execution_count": 5,
   "metadata": {},
   "outputs": [
    {
     "data": {
      "text/plain": [
       "array([21, 54,  1,  4,  7, 32, 72, 19, 10, 45, 40, 47, 36, 69, 71, 35,  3,\n",
       "       68, 42,  8, 46, 12, 26, 49, 33, 31, 66, 58, 13, 57,  6, 59, 15, 27,\n",
       "       34, 18,  5, 39, 29,  2, 63, 20, 14, 56, 37, 24, 52, 43, 11, 16, 50,\n",
       "       38, 23, 55, 48, 53, 70, 22, 28, 44, 65, 64, 60, 51,  9, 25, 61, 30,\n",
       "       17, 41, 67, 62], dtype=int64)"
      ]
     },
     "execution_count": 5,
     "metadata": {},
     "output_type": "execute_result"
    }
   ],
   "source": [
    "telco['tenure'].unique()"
   ]
  },
  {
   "cell_type": "markdown",
   "metadata": {},
   "source": [
    "## 2) Analisi di alcune variabili catgoriche"
   ]
  },
  {
   "cell_type": "code",
   "execution_count": 6,
   "metadata": {},
   "outputs": [],
   "source": [
    "import seaborn as sns"
   ]
  },
  {
   "cell_type": "code",
   "execution_count": 7,
   "metadata": {},
   "outputs": [
    {
     "data": {
      "text/html": [
       "<div>\n",
       "<style scoped>\n",
       "    .dataframe tbody tr th:only-of-type {\n",
       "        vertical-align: middle;\n",
       "    }\n",
       "\n",
       "    .dataframe tbody tr th {\n",
       "        vertical-align: top;\n",
       "    }\n",
       "\n",
       "    .dataframe thead th {\n",
       "        text-align: right;\n",
       "    }\n",
       "</style>\n",
       "<table border=\"1\" class=\"dataframe\">\n",
       "  <thead>\n",
       "    <tr style=\"text-align: right;\">\n",
       "      <th></th>\n",
       "      <th>Churn</th>\n",
       "    </tr>\n",
       "    <tr>\n",
       "      <th>InternetService</th>\n",
       "      <th></th>\n",
       "    </tr>\n",
       "  </thead>\n",
       "  <tbody>\n",
       "    <tr>\n",
       "      <th>Fiber optic</th>\n",
       "      <td>2481</td>\n",
       "    </tr>\n",
       "    <tr>\n",
       "      <th>DSL</th>\n",
       "      <td>1935</td>\n",
       "    </tr>\n",
       "    <tr>\n",
       "      <th>No</th>\n",
       "      <td>1208</td>\n",
       "    </tr>\n",
       "  </tbody>\n",
       "</table>\n",
       "</div>"
      ],
      "text/plain": [
       "                 Churn\n",
       "InternetService       \n",
       "Fiber optic       2481\n",
       "DSL               1935\n",
       "No                1208"
      ]
     },
     "execution_count": 7,
     "metadata": {},
     "output_type": "execute_result"
    },
    {
     "data": {
      "image/png": "[encoded data removed]",
      "text/plain": [
       "<Figure size 432x288 with 1 Axes>"
      ]
     },
     "metadata": {
      "needs_background": "light"
     },
     "output_type": "display_data"
    }
   ],
   "source": [
    "ax = sns.countplot(x=\"InternetService\", hue=\"Churn\", data=telco)\n",
    "telco[['InternetService', 'Churn']].groupby(['InternetService']).count().sort_values(by='Churn', ascending=False)"
   ]
  },
  {
   "cell_type": "code",
   "execution_count": 8,
   "metadata": {},
   "outputs": [
    {
     "data": {
      "text/html": [
       "<div>\n",
       "<style scoped>\n",
       "    .dataframe tbody tr th:only-of-type {\n",
       "        vertical-align: middle;\n",
       "    }\n",
       "\n",
       "    .dataframe tbody tr th {\n",
       "        vertical-align: top;\n",
       "    }\n",
       "\n",
       "    .dataframe thead th {\n",
       "        text-align: right;\n",
       "    }\n",
       "</style>\n",
       "<table border=\"1\" class=\"dataframe\">\n",
       "  <thead>\n",
       "    <tr style=\"text-align: right;\">\n",
       "      <th></th>\n",
       "      <th>Churn</th>\n",
       "    </tr>\n",
       "    <tr>\n",
       "      <th>OnlineSecurity</th>\n",
       "      <th></th>\n",
       "    </tr>\n",
       "  </thead>\n",
       "  <tbody>\n",
       "    <tr>\n",
       "      <th>No</th>\n",
       "      <td>2810</td>\n",
       "    </tr>\n",
       "    <tr>\n",
       "      <th>Yes</th>\n",
       "      <td>1606</td>\n",
       "    </tr>\n",
       "    <tr>\n",
       "      <th>No internet service</th>\n",
       "      <td>1208</td>\n",
       "    </tr>\n",
       "  </tbody>\n",
       "</table>\n",
       "</div>"
      ],
      "text/plain": [
       "                     Churn\n",
       "OnlineSecurity            \n",
       "No                    2810\n",
       "Yes                   1606\n",
       "No internet service   1208"
      ]
     },
     "execution_count": 8,
     "metadata": {},
     "output_type": "execute_result"
    },
    {
     "data": {
      "image/png": "[encoded data removed]",
      "text/plain": [
       "<Figure size 432x288 with 1 Axes>"
      ]
     },
     "metadata": {
      "needs_background": "light"
     },
     "output_type": "display_data"
    }
   ],
   "source": [
    "ax = sns.countplot(x=\"OnlineSecurity\", hue=\"Churn\", data=telco)\n",
    "telco[['OnlineSecurity', 'Churn']].groupby(['OnlineSecurity']).count().sort_values(by='Churn', ascending=False)"
   ]
  },
  {
   "cell_type": "code",
   "execution_count": 9,
   "metadata": {},
   "outputs": [
    {
     "data": {
      "text/html": [
       "<div>\n",
       "<style scoped>\n",
       "    .dataframe tbody tr th:only-of-type {\n",
       "        vertical-align: middle;\n",
       "    }\n",
       "\n",
       "    .dataframe tbody tr th {\n",
       "        vertical-align: top;\n",
       "    }\n",
       "\n",
       "    .dataframe thead th {\n",
       "        text-align: right;\n",
       "    }\n",
       "</style>\n",
       "<table border=\"1\" class=\"dataframe\">\n",
       "  <thead>\n",
       "    <tr style=\"text-align: right;\">\n",
       "      <th></th>\n",
       "      <th>Churn</th>\n",
       "    </tr>\n",
       "    <tr>\n",
       "      <th>PaymentMethod</th>\n",
       "      <th></th>\n",
       "    </tr>\n",
       "  </thead>\n",
       "  <tbody>\n",
       "    <tr>\n",
       "      <th>Electronic check</th>\n",
       "      <td>1887</td>\n",
       "    </tr>\n",
       "    <tr>\n",
       "      <th>Mailed check</th>\n",
       "      <td>1275</td>\n",
       "    </tr>\n",
       "    <tr>\n",
       "      <th>Bank transfer (automatic)</th>\n",
       "      <td>1236</td>\n",
       "    </tr>\n",
       "    <tr>\n",
       "      <th>Credit card (automatic)</th>\n",
       "      <td>1226</td>\n",
       "    </tr>\n",
       "  </tbody>\n",
       "</table>\n",
       "</div>"
      ],
      "text/plain": [
       "                           Churn\n",
       "PaymentMethod                   \n",
       "Electronic check            1887\n",
       "Mailed check                1275\n",
       "Bank transfer (automatic)   1236\n",
       "Credit card (automatic)     1226"
      ]
     },
     "execution_count": 9,
     "metadata": {},
     "output_type": "execute_result"
    },
    {
     "data": {
      "image/png": "[encoded data removed]",
      "text/plain": [
       "<Figure size 432x288 with 1 Axes>"
      ]
     },
     "metadata": {
      "needs_background": "light"
     },
     "output_type": "display_data"
    }
   ],
   "source": [
    "ax = sns.countplot(x=\"PaymentMethod\", hue=\"Churn\", data=telco)\n",
    "telco[['PaymentMethod', 'Churn']].groupby(['PaymentMethod']).count().sort_values(by='Churn', ascending=False)"
   ]
  },
  {
   "cell_type": "code",
   "execution_count": 10,
   "metadata": {},
   "outputs": [
    {
     "data": {
      "text/html": [
       "<div>\n",
       "<style scoped>\n",
       "    .dataframe tbody tr th:only-of-type {\n",
       "        vertical-align: middle;\n",
       "    }\n",
       "\n",
       "    .dataframe tbody tr th {\n",
       "        vertical-align: top;\n",
       "    }\n",
       "\n",
       "    .dataframe thead th {\n",
       "        text-align: right;\n",
       "    }\n",
       "</style>\n",
       "<table border=\"1\" class=\"dataframe\">\n",
       "  <thead>\n",
       "    <tr style=\"text-align: right;\">\n",
       "      <th></th>\n",
       "      <th>Churn</th>\n",
       "    </tr>\n",
       "    <tr>\n",
       "      <th>Contract</th>\n",
       "      <th></th>\n",
       "    </tr>\n",
       "  </thead>\n",
       "  <tbody>\n",
       "    <tr>\n",
       "      <th>Month-to-month</th>\n",
       "      <td>3083</td>\n",
       "    </tr>\n",
       "    <tr>\n",
       "      <th>Two year</th>\n",
       "      <td>1330</td>\n",
       "    </tr>\n",
       "    <tr>\n",
       "      <th>One year</th>\n",
       "      <td>1211</td>\n",
       "    </tr>\n",
       "  </tbody>\n",
       "</table>\n",
       "</div>"
      ],
      "text/plain": [
       "                Churn\n",
       "Contract             \n",
       "Month-to-month   3083\n",
       "Two year         1330\n",
       "One year         1211"
      ]
     },
     "execution_count": 10,
     "metadata": {},
     "output_type": "execute_result"
    },
    {
     "data": {
      "image/png": "[encoded data removed]",
      "text/plain": [
       "<Figure size 432x288 with 1 Axes>"
      ]
     },
     "metadata": {
      "needs_background": "light"
     },
     "output_type": "display_data"
    }
   ],
   "source": [
    "ax = sns.countplot(x=\"Contract\", hue=\"Churn\", data=telco)\n",
    "telco[['Contract', 'Churn']].groupby(['Contract']).count().sort_values(by='Churn', ascending=False)"
   ]
  },
  {
   "cell_type": "code",
   "execution_count": 11,
   "metadata": {},
   "outputs": [
    {
     "data": {
      "text/html": [
       "<div>\n",
       "<style scoped>\n",
       "    .dataframe tbody tr th:only-of-type {\n",
       "        vertical-align: middle;\n",
       "    }\n",
       "\n",
       "    .dataframe tbody tr th {\n",
       "        vertical-align: top;\n",
       "    }\n",
       "\n",
       "    .dataframe thead th {\n",
       "        text-align: right;\n",
       "    }\n",
       "</style>\n",
       "<table border=\"1\" class=\"dataframe\">\n",
       "  <thead>\n",
       "    <tr style=\"text-align: right;\">\n",
       "      <th></th>\n",
       "      <th>Churn</th>\n",
       "    </tr>\n",
       "    <tr>\n",
       "      <th>gender</th>\n",
       "      <th></th>\n",
       "    </tr>\n",
       "  </thead>\n",
       "  <tbody>\n",
       "    <tr>\n",
       "      <th>Male</th>\n",
       "      <td>2881</td>\n",
       "    </tr>\n",
       "    <tr>\n",
       "      <th>Female</th>\n",
       "      <td>2743</td>\n",
       "    </tr>\n",
       "  </tbody>\n",
       "</table>\n",
       "</div>"
      ],
      "text/plain": [
       "        Churn\n",
       "gender       \n",
       "Male     2881\n",
       "Female   2743"
      ]
     },
     "execution_count": 11,
     "metadata": {},
     "output_type": "execute_result"
    },
    {
     "data": {
      "image/png": "[encoded data removed]",
      "text/plain": [
       "<Figure size 432x288 with 1 Axes>"
      ]
     },
     "metadata": {
      "needs_background": "light"
     },
     "output_type": "display_data"
    }
   ],
   "source": [
    "ax = sns.countplot(x=\"gender\", hue=\"Churn\", data=telco)\n",
    "telco[['gender', 'Churn']].groupby(['gender']).count().sort_values(by='Churn', ascending=False)"
   ]
  },
  {
   "cell_type": "code",
   "execution_count": 12,
   "metadata": {},
   "outputs": [
    {
     "data": {
      "text/html": [
       "<div>\n",
       "<style scoped>\n",
       "    .dataframe tbody tr th:only-of-type {\n",
       "        vertical-align: middle;\n",
       "    }\n",
       "\n",
       "    .dataframe tbody tr th {\n",
       "        vertical-align: top;\n",
       "    }\n",
       "\n",
       "    .dataframe thead th {\n",
       "        text-align: right;\n",
       "    }\n",
       "</style>\n",
       "<table border=\"1\" class=\"dataframe\">\n",
       "  <thead>\n",
       "    <tr style=\"text-align: right;\">\n",
       "      <th></th>\n",
       "      <th>Churn</th>\n",
       "    </tr>\n",
       "    <tr>\n",
       "      <th>SeniorCitizen</th>\n",
       "      <th></th>\n",
       "    </tr>\n",
       "  </thead>\n",
       "  <tbody>\n",
       "    <tr>\n",
       "      <th>0</th>\n",
       "      <td>4718</td>\n",
       "    </tr>\n",
       "    <tr>\n",
       "      <th>1</th>\n",
       "      <td>906</td>\n",
       "    </tr>\n",
       "  </tbody>\n",
       "</table>\n",
       "</div>"
      ],
      "text/plain": [
       "               Churn\n",
       "SeniorCitizen       \n",
       "0               4718\n",
       "1                906"
      ]
     },
     "execution_count": 12,
     "metadata": {},
     "output_type": "execute_result"
    },
    {
     "data": {
      "image/png": "[encoded data removed]",
      "text/plain": [
       "<Figure size 432x288 with 1 Axes>"
      ]
     },
     "metadata": {
      "needs_background": "light"
     },
     "output_type": "display_data"
    }
   ],
   "source": [
    "ax = sns.countplot(x=\"SeniorCitizen\", hue=\"Churn\", data=telco)\n",
    "telco[['SeniorCitizen', 'Churn']].groupby(['SeniorCitizen']).count().sort_values(by='Churn', ascending=False)"
   ]
  },
  {
   "cell_type": "markdown",
   "metadata": {},
   "source": [
    "## 3) Preprocessing dei dati"
   ]
  },
  {
   "cell_type": "code",
   "execution_count": 13,
   "metadata": {},
   "outputs": [],
   "source": [
    "from sklearn.model_selection import train_test_split\n",
    "\n",
    "y = telco['Churn']\n",
    "telco_data = telco.drop(labels=['Churn'], axis=1)\n",
    "\n",
    "train_data, test_data, y_train, y_test = train_test_split(telco_data, y, train_size=0.7, test_size=0.3)"
   ]
  },
  {
   "cell_type": "code",
   "execution_count": 14,
   "metadata": {},
   "outputs": [],
   "source": [
    "# Cambio di tipi\n",
    "train_data = train_data.astype({\"TotalCharges\": float})\n",
    "test_data = test_data.astype({\"TotalCharges\": float})"
   ]
  },
  {
   "cell_type": "code",
   "execution_count": 15,
   "metadata": {},
   "outputs": [],
   "source": [
    "train_data['Contract'] = train_data['Contract'].replace('Two year', 'Other')\n",
    "train_data['Contract'] = train_data['Contract'].replace('Two year', 'Other')"
   ]
  },
  {
   "cell_type": "code",
   "execution_count": 16,
   "metadata": {},
   "outputs": [
    {
     "data": {
      "text/html": [
       "<div>\n",
       "<style scoped>\n",
       "    .dataframe tbody tr th:only-of-type {\n",
       "        vertical-align: middle;\n",
       "    }\n",
       "\n",
       "    .dataframe tbody tr th {\n",
       "        vertical-align: top;\n",
       "    }\n",
       "\n",
       "    .dataframe thead th {\n",
       "        text-align: right;\n",
       "    }\n",
       "</style>\n",
       "<table border=\"1\" class=\"dataframe\">\n",
       "  <thead>\n",
       "    <tr style=\"text-align: right;\">\n",
       "      <th></th>\n",
       "      <th>Dependents</th>\n",
       "      <th>tenure</th>\n",
       "      <th>PhoneService</th>\n",
       "      <th>MultipleLines</th>\n",
       "      <th>InternetService</th>\n",
       "      <th>OnlineSecurity</th>\n",
       "      <th>OnlineBackup</th>\n",
       "      <th>DeviceProtection</th>\n",
       "      <th>TechSupport</th>\n",
       "      <th>StreamingTV</th>\n",
       "      <th>StreamingMovies</th>\n",
       "      <th>Contract</th>\n",
       "      <th>PaperlessBilling</th>\n",
       "      <th>PaymentMethod</th>\n",
       "      <th>MonthlyCharges</th>\n",
       "      <th>TotalCharges</th>\n",
       "    </tr>\n",
       "  </thead>\n",
       "  <tbody>\n",
       "    <tr>\n",
       "      <th>3186</th>\n",
       "      <td>0</td>\n",
       "      <td>6</td>\n",
       "      <td>1</td>\n",
       "      <td>0</td>\n",
       "      <td>1</td>\n",
       "      <td>0</td>\n",
       "      <td>0</td>\n",
       "      <td>2</td>\n",
       "      <td>2</td>\n",
       "      <td>2</td>\n",
       "      <td>2</td>\n",
       "      <td>0</td>\n",
       "      <td>1</td>\n",
       "      <td>3</td>\n",
       "      <td>99.95</td>\n",
       "      <td>547.65</td>\n",
       "    </tr>\n",
       "    <tr>\n",
       "      <th>4504</th>\n",
       "      <td>1</td>\n",
       "      <td>60</td>\n",
       "      <td>1</td>\n",
       "      <td>0</td>\n",
       "      <td>2</td>\n",
       "      <td>1</td>\n",
       "      <td>1</td>\n",
       "      <td>1</td>\n",
       "      <td>1</td>\n",
       "      <td>1</td>\n",
       "      <td>1</td>\n",
       "      <td>2</td>\n",
       "      <td>1</td>\n",
       "      <td>0</td>\n",
       "      <td>20.95</td>\n",
       "      <td>1270.55</td>\n",
       "    </tr>\n",
       "    <tr>\n",
       "      <th>4169</th>\n",
       "      <td>0</td>\n",
       "      <td>6</td>\n",
       "      <td>1</td>\n",
       "      <td>0</td>\n",
       "      <td>0</td>\n",
       "      <td>0</td>\n",
       "      <td>2</td>\n",
       "      <td>0</td>\n",
       "      <td>0</td>\n",
       "      <td>2</td>\n",
       "      <td>0</td>\n",
       "      <td>0</td>\n",
       "      <td>0</td>\n",
       "      <td>2</td>\n",
       "      <td>59.45</td>\n",
       "      <td>357.60</td>\n",
       "    </tr>\n",
       "    <tr>\n",
       "      <th>4630</th>\n",
       "      <td>0</td>\n",
       "      <td>26</td>\n",
       "      <td>1</td>\n",
       "      <td>2</td>\n",
       "      <td>1</td>\n",
       "      <td>0</td>\n",
       "      <td>0</td>\n",
       "      <td>2</td>\n",
       "      <td>0</td>\n",
       "      <td>0</td>\n",
       "      <td>0</td>\n",
       "      <td>0</td>\n",
       "      <td>1</td>\n",
       "      <td>2</td>\n",
       "      <td>80.70</td>\n",
       "      <td>2193.00</td>\n",
       "    </tr>\n",
       "    <tr>\n",
       "      <th>652</th>\n",
       "      <td>0</td>\n",
       "      <td>66</td>\n",
       "      <td>1</td>\n",
       "      <td>2</td>\n",
       "      <td>1</td>\n",
       "      <td>0</td>\n",
       "      <td>2</td>\n",
       "      <td>2</td>\n",
       "      <td>2</td>\n",
       "      <td>2</td>\n",
       "      <td>2</td>\n",
       "      <td>1</td>\n",
       "      <td>1</td>\n",
       "      <td>0</td>\n",
       "      <td>107.35</td>\n",
       "      <td>7051.95</td>\n",
       "    </tr>\n",
       "  </tbody>\n",
       "</table>\n",
       "</div>"
      ],
      "text/plain": [
       "      Dependents  tenure  PhoneService  MultipleLines  InternetService  \\\n",
       "3186           0       6             1              0                1   \n",
       "4504           1      60             1              0                2   \n",
       "4169           0       6             1              0                0   \n",
       "4630           0      26             1              2                1   \n",
       "652            0      66             1              2                1   \n",
       "\n",
       "      OnlineSecurity  OnlineBackup  DeviceProtection  TechSupport  \\\n",
       "3186               0             0                 2            2   \n",
       "4504               1             1                 1            1   \n",
       "4169               0             2                 0            0   \n",
       "4630               0             0                 2            0   \n",
       "652                0             2                 2            2   \n",
       "\n",
       "      StreamingTV  StreamingMovies  Contract  PaperlessBilling  PaymentMethod  \\\n",
       "3186            2                2         0                 1              3   \n",
       "4504            1                1         2                 1              0   \n",
       "4169            2                0         0                 0              2   \n",
       "4630            0                0         0                 1              2   \n",
       "652             2                2         1                 1              0   \n",
       "\n",
       "      MonthlyCharges  TotalCharges  \n",
       "3186           99.95        547.65  \n",
       "4504           20.95       1270.55  \n",
       "4169           59.45        357.60  \n",
       "4630           80.70       2193.00  \n",
       "652           107.35       7051.95  "
      ]
     },
     "execution_count": 16,
     "metadata": {},
     "output_type": "execute_result"
    }
   ],
   "source": [
    "from sklearn.preprocessing import LabelEncoder\n",
    "\n",
    "label_encoder = LabelEncoder()\n",
    "\n",
    "encoded_cols = []\n",
    "for name in train_data.columns:\n",
    "    if train_data[name].dtypes=='object':\n",
    "        encoded_cols.append(name)\n",
    "\n",
    "for col in encoded_cols:\n",
    "    train_data[col] = label_encoder.fit_transform(train_data[col])     \n",
    "\n",
    "train_data = train_data.drop(labels=['gender', 'Partner', 'SeniorCitizen'], axis=1)\n",
    "train_data.head()"
   ]
  },
  {
   "cell_type": "code",
   "execution_count": 17,
   "metadata": {},
   "outputs": [
    {
     "data": {
      "text/html": [
       "<div>\n",
       "<style scoped>\n",
       "    .dataframe tbody tr th:only-of-type {\n",
       "        vertical-align: middle;\n",
       "    }\n",
       "\n",
       "    .dataframe tbody tr th {\n",
       "        vertical-align: top;\n",
       "    }\n",
       "\n",
       "    .dataframe thead th {\n",
       "        text-align: right;\n",
       "    }\n",
       "</style>\n",
       "<table border=\"1\" class=\"dataframe\">\n",
       "  <thead>\n",
       "    <tr style=\"text-align: right;\">\n",
       "      <th></th>\n",
       "      <th>Dependents</th>\n",
       "      <th>tenure</th>\n",
       "      <th>PhoneService</th>\n",
       "      <th>MultipleLines</th>\n",
       "      <th>InternetService</th>\n",
       "      <th>OnlineSecurity</th>\n",
       "      <th>OnlineBackup</th>\n",
       "      <th>DeviceProtection</th>\n",
       "      <th>TechSupport</th>\n",
       "      <th>StreamingTV</th>\n",
       "      <th>StreamingMovies</th>\n",
       "      <th>Contract</th>\n",
       "      <th>PaperlessBilling</th>\n",
       "      <th>PaymentMethod</th>\n",
       "      <th>MonthlyCharges</th>\n",
       "      <th>TotalCharges</th>\n",
       "    </tr>\n",
       "  </thead>\n",
       "  <tbody>\n",
       "    <tr>\n",
       "      <th>4577</th>\n",
       "      <td>0</td>\n",
       "      <td>70</td>\n",
       "      <td>1</td>\n",
       "      <td>0</td>\n",
       "      <td>0</td>\n",
       "      <td>2</td>\n",
       "      <td>0</td>\n",
       "      <td>2</td>\n",
       "      <td>2</td>\n",
       "      <td>2</td>\n",
       "      <td>2</td>\n",
       "      <td>2</td>\n",
       "      <td>0</td>\n",
       "      <td>0</td>\n",
       "      <td>79.60</td>\n",
       "      <td>5589.45</td>\n",
       "    </tr>\n",
       "    <tr>\n",
       "      <th>3444</th>\n",
       "      <td>1</td>\n",
       "      <td>1</td>\n",
       "      <td>1</td>\n",
       "      <td>2</td>\n",
       "      <td>2</td>\n",
       "      <td>1</td>\n",
       "      <td>1</td>\n",
       "      <td>1</td>\n",
       "      <td>1</td>\n",
       "      <td>1</td>\n",
       "      <td>1</td>\n",
       "      <td>0</td>\n",
       "      <td>0</td>\n",
       "      <td>3</td>\n",
       "      <td>24.00</td>\n",
       "      <td>24.00</td>\n",
       "    </tr>\n",
       "    <tr>\n",
       "      <th>5159</th>\n",
       "      <td>0</td>\n",
       "      <td>35</td>\n",
       "      <td>1</td>\n",
       "      <td>2</td>\n",
       "      <td>1</td>\n",
       "      <td>0</td>\n",
       "      <td>0</td>\n",
       "      <td>0</td>\n",
       "      <td>0</td>\n",
       "      <td>0</td>\n",
       "      <td>0</td>\n",
       "      <td>0</td>\n",
       "      <td>1</td>\n",
       "      <td>2</td>\n",
       "      <td>75.20</td>\n",
       "      <td>2576.20</td>\n",
       "    </tr>\n",
       "    <tr>\n",
       "      <th>3726</th>\n",
       "      <td>0</td>\n",
       "      <td>15</td>\n",
       "      <td>1</td>\n",
       "      <td>2</td>\n",
       "      <td>0</td>\n",
       "      <td>0</td>\n",
       "      <td>0</td>\n",
       "      <td>0</td>\n",
       "      <td>0</td>\n",
       "      <td>0</td>\n",
       "      <td>0</td>\n",
       "      <td>0</td>\n",
       "      <td>0</td>\n",
       "      <td>2</td>\n",
       "      <td>51.55</td>\n",
       "      <td>765.50</td>\n",
       "    </tr>\n",
       "    <tr>\n",
       "      <th>4431</th>\n",
       "      <td>0</td>\n",
       "      <td>1</td>\n",
       "      <td>1</td>\n",
       "      <td>0</td>\n",
       "      <td>2</td>\n",
       "      <td>1</td>\n",
       "      <td>1</td>\n",
       "      <td>1</td>\n",
       "      <td>1</td>\n",
       "      <td>1</td>\n",
       "      <td>1</td>\n",
       "      <td>0</td>\n",
       "      <td>0</td>\n",
       "      <td>1</td>\n",
       "      <td>19.80</td>\n",
       "      <td>19.80</td>\n",
       "    </tr>\n",
       "  </tbody>\n",
       "</table>\n",
       "</div>"
      ],
      "text/plain": [
       "      Dependents  tenure  PhoneService  MultipleLines  InternetService  \\\n",
       "4577           0      70             1              0                0   \n",
       "3444           1       1             1              2                2   \n",
       "5159           0      35             1              2                1   \n",
       "3726           0      15             1              2                0   \n",
       "4431           0       1             1              0                2   \n",
       "\n",
       "      OnlineSecurity  OnlineBackup  DeviceProtection  TechSupport  \\\n",
       "4577               2             0                 2            2   \n",
       "3444               1             1                 1            1   \n",
       "5159               0             0                 0            0   \n",
       "3726               0             0                 0            0   \n",
       "4431               1             1                 1            1   \n",
       "\n",
       "      StreamingTV  StreamingMovies  Contract  PaperlessBilling  PaymentMethod  \\\n",
       "4577            2                2         2                 0              0   \n",
       "3444            1                1         0                 0              3   \n",
       "5159            0                0         0                 1              2   \n",
       "3726            0                0         0                 0              2   \n",
       "4431            1                1         0                 0              1   \n",
       "\n",
       "      MonthlyCharges  TotalCharges  \n",
       "4577           79.60       5589.45  \n",
       "3444           24.00         24.00  \n",
       "5159           75.20       2576.20  \n",
       "3726           51.55        765.50  \n",
       "4431           19.80         19.80  "
      ]
     },
     "execution_count": 17,
     "metadata": {},
     "output_type": "execute_result"
    }
   ],
   "source": [
    "encoded_cols = []\n",
    "for name in test_data.columns:\n",
    "    if test_data[name].dtypes=='object':\n",
    "        encoded_cols.append(name)\n",
    "\n",
    "for col in encoded_cols:\n",
    "    test_data[col] = label_encoder.fit_transform(test_data[col]) \n",
    "\n",
    "test_data = test_data.drop(labels=['gender', 'Partner', 'SeniorCitizen'], axis=1)\n",
    "test_data.head()"
   ]
  },
  {
   "cell_type": "markdown",
   "metadata": {},
   "source": [
    "## 3) Creazione modello e valutazione sul validation set"
   ]
  },
  {
   "cell_type": "code",
   "execution_count": 18,
   "metadata": {},
   "outputs": [
    {
     "name": "stderr",
     "output_type": "stream",
     "text": [
      "C:\\Users\\david\\anaconda3\\lib\\site-packages\\sklearn\\linear_model\\_logistic.py:940: ConvergenceWarning: lbfgs failed to converge (status=1):\n",
      "STOP: TOTAL NO. of ITERATIONS REACHED LIMIT.\n",
      "\n",
      "Increase the number of iterations (max_iter) or scale the data as shown in:\n",
      "    https://scikit-learn.org/stable/modules/preprocessing.html\n",
      "Please also refer to the documentation for alternative solver options:\n",
      "    https://scikit-learn.org/stable/modules/linear_model.html#logistic-regression\n",
      "  extra_warning_msg=_LOGISTIC_SOLVER_CONVERGENCE_MSG)\n"
     ]
    },
    {
     "data": {
      "text/plain": [
       "LogisticRegression(C=0.012, class_weight=None, dual=False, fit_intercept=True,\n",
       "                   intercept_scaling=1, l1_ratio=None, max_iter=100,\n",
       "                   multi_class='auto', n_jobs=None, penalty='l2',\n",
       "                   random_state=None, solver='lbfgs', tol=0.0001, verbose=0,\n",
       "                   warm_start=False)"
      ]
     },
     "execution_count": 18,
     "metadata": {},
     "output_type": "execute_result"
    }
   ],
   "source": [
    "from sklearn.linear_model import LogisticRegression\n",
    "\n",
    "logistic = LogisticRegression(C=0.012)\n",
    "logistic.fit(train_data, y_train)"
   ]
  },
  {
   "cell_type": "code",
   "execution_count": 19,
   "metadata": {},
   "outputs": [
    {
     "name": "stdout",
     "output_type": "stream",
     "text": [
      "Training set score: 0.80\n",
      "Test set score: 0.79\n"
     ]
    }
   ],
   "source": [
    "print(\"Training set score: {:.2f}\".format(logistic.score(train_data, y_train)))\n",
    "print(\"Test set score: {:.2f}\".format(logistic.score(test_data, y_test)))"
   ]
  },
  {
   "cell_type": "code",
   "execution_count": 20,
   "metadata": {
    "scrolled": true
   },
   "outputs": [
    {
     "name": "stdout",
     "output_type": "stream",
     "text": [
      "DecisionTree with max-depth: 2\n",
      "Accuracy on training set: 0.74\n",
      "Accuracy on test set: 0.74\n",
      "\n",
      "\n",
      "DecisionTree with max-depth: 3\n",
      "Accuracy on training set: 0.78\n",
      "Accuracy on test set: 0.77\n",
      "\n",
      "\n",
      "DecisionTree with max-depth: 4\n",
      "Accuracy on training set: 0.79\n",
      "Accuracy on test set: 0.76\n",
      "\n",
      "\n",
      "DecisionTree with max-depth: 5\n",
      "Accuracy on training set: 0.80\n",
      "Accuracy on test set: 0.79\n",
      "\n",
      "\n",
      "DecisionTree with max-depth: 6\n",
      "Accuracy on training set: 0.81\n",
      "Accuracy on test set: 0.78\n",
      "\n",
      "\n",
      "DecisionTree with max-depth: 7\n",
      "Accuracy on training set: 0.82\n",
      "Accuracy on test set: 0.78\n",
      "\n",
      "\n",
      "DecisionTree with max-depth: 8\n",
      "Accuracy on training set: 0.83\n",
      "Accuracy on test set: 0.77\n",
      "\n",
      "\n",
      "DecisionTree with max-depth: 9\n",
      "Accuracy on training set: 0.85\n",
      "Accuracy on test set: 0.78\n",
      "\n",
      "\n",
      "DecisionTree with max-depth: 10\n",
      "Accuracy on training set: 0.87\n",
      "Accuracy on test set: 0.76\n",
      "\n",
      "\n",
      "DecisionTree with max-depth: 11\n",
      "Accuracy on training set: 0.89\n",
      "Accuracy on test set: 0.76\n",
      "\n",
      "\n"
     ]
    }
   ],
   "source": [
    "from sklearn.tree import DecisionTreeClassifier\n",
    "\n",
    "for i in range(2,12):\n",
    "    tree = DecisionTreeClassifier(max_depth=i, random_state=0)\n",
    "    tree.fit(train_data, y_train)\n",
    "\n",
    "    print('DecisionTree with max-depth: ' + str(i))\n",
    "    print(\"Accuracy on training set: {:.2f}\".format(tree.score(train_data, y_train)))\n",
    "    print(\"Accuracy on test set: {:.2f}\".format(tree.score(test_data, y_test)))\n",
    "    print('\\n')"
   ]
  },
  {
   "cell_type": "markdown",
   "metadata": {},
   "source": [
    "## 4) Prova con una Rete Neurale"
   ]
  },
  {
   "cell_type": "code",
   "execution_count": 21,
   "metadata": {},
   "outputs": [],
   "source": [
    "import tensorflow as tf\n",
    "import numpy as np"
   ]
  },
  {
   "cell_type": "code",
   "execution_count": 22,
   "metadata": {},
   "outputs": [],
   "source": [
    "import pandas as pd\n",
    "from sklearn.model_selection import train_test_split\n",
    "\n",
    "telco_nn = pd.read_csv('telco_churn_train.csv')\n",
    "\n",
    "telco_nn['Churn'] = telco_nn['Churn'].replace('No', 0)\n",
    "telco_nn['Churn'] = telco_nn['Churn'].replace('Yes', 1)\n",
    "telco_nn = telco_nn.drop(labels=['customerID'], axis=1)\n",
    "\n",
    "to_delete = telco_nn.loc[telco_nn.TotalCharges == ' ']\n",
    "\n",
    "for i in to_delete.index:\n",
    "    telco_nn.drop(i, inplace=True)\n"
   ]
  },
  {
   "cell_type": "code",
   "execution_count": 23,
   "metadata": {},
   "outputs": [],
   "source": [
    "object_cols = []\n",
    "for name in telco_nn.columns:\n",
    "    if telco_nn[name].dtypes=='object':\n",
    "        object_cols.append(name)"
   ]
  },
  {
   "cell_type": "code",
   "execution_count": 24,
   "metadata": {},
   "outputs": [
    {
     "data": {
      "text/html": [
       "<div>\n",
       "<style scoped>\n",
       "    .dataframe tbody tr th:only-of-type {\n",
       "        vertical-align: middle;\n",
       "    }\n",
       "\n",
       "    .dataframe tbody tr th {\n",
       "        vertical-align: top;\n",
       "    }\n",
       "\n",
       "    .dataframe thead th {\n",
       "        text-align: right;\n",
       "    }\n",
       "</style>\n",
       "<table border=\"1\" class=\"dataframe\">\n",
       "  <thead>\n",
       "    <tr style=\"text-align: right;\">\n",
       "      <th></th>\n",
       "      <th>Churn</th>\n",
       "      <th>gender</th>\n",
       "      <th>SeniorCitizen</th>\n",
       "      <th>Partner</th>\n",
       "      <th>Dependents</th>\n",
       "      <th>tenure</th>\n",
       "      <th>PhoneService</th>\n",
       "      <th>MultipleLines</th>\n",
       "      <th>InternetService</th>\n",
       "      <th>OnlineSecurity</th>\n",
       "      <th>OnlineBackup</th>\n",
       "      <th>DeviceProtection</th>\n",
       "      <th>TechSupport</th>\n",
       "      <th>StreamingTV</th>\n",
       "      <th>StreamingMovies</th>\n",
       "      <th>Contract</th>\n",
       "      <th>PaperlessBilling</th>\n",
       "      <th>PaymentMethod</th>\n",
       "      <th>MonthlyCharges</th>\n",
       "      <th>TotalCharges</th>\n",
       "    </tr>\n",
       "  </thead>\n",
       "  <tbody>\n",
       "    <tr>\n",
       "      <th>0</th>\n",
       "      <td>0</td>\n",
       "      <td>0</td>\n",
       "      <td>0</td>\n",
       "      <td>0</td>\n",
       "      <td>1</td>\n",
       "      <td>21</td>\n",
       "      <td>1</td>\n",
       "      <td>0</td>\n",
       "      <td>0</td>\n",
       "      <td>2</td>\n",
       "      <td>0</td>\n",
       "      <td>2</td>\n",
       "      <td>0</td>\n",
       "      <td>0</td>\n",
       "      <td>2</td>\n",
       "      <td>1</td>\n",
       "      <td>0</td>\n",
       "      <td>3</td>\n",
       "      <td>64.85</td>\n",
       "      <td>491</td>\n",
       "    </tr>\n",
       "    <tr>\n",
       "      <th>1</th>\n",
       "      <td>0</td>\n",
       "      <td>0</td>\n",
       "      <td>0</td>\n",
       "      <td>0</td>\n",
       "      <td>0</td>\n",
       "      <td>54</td>\n",
       "      <td>1</td>\n",
       "      <td>2</td>\n",
       "      <td>1</td>\n",
       "      <td>0</td>\n",
       "      <td>2</td>\n",
       "      <td>0</td>\n",
       "      <td>0</td>\n",
       "      <td>2</td>\n",
       "      <td>2</td>\n",
       "      <td>2</td>\n",
       "      <td>1</td>\n",
       "      <td>0</td>\n",
       "      <td>97.20</td>\n",
       "      <td>3510</td>\n",
       "    </tr>\n",
       "    <tr>\n",
       "      <th>2</th>\n",
       "      <td>1</td>\n",
       "      <td>1</td>\n",
       "      <td>0</td>\n",
       "      <td>1</td>\n",
       "      <td>0</td>\n",
       "      <td>1</td>\n",
       "      <td>0</td>\n",
       "      <td>1</td>\n",
       "      <td>0</td>\n",
       "      <td>0</td>\n",
       "      <td>0</td>\n",
       "      <td>0</td>\n",
       "      <td>0</td>\n",
       "      <td>0</td>\n",
       "      <td>0</td>\n",
       "      <td>0</td>\n",
       "      <td>1</td>\n",
       "      <td>2</td>\n",
       "      <td>23.45</td>\n",
       "      <td>1565</td>\n",
       "    </tr>\n",
       "    <tr>\n",
       "      <th>3</th>\n",
       "      <td>1</td>\n",
       "      <td>1</td>\n",
       "      <td>0</td>\n",
       "      <td>0</td>\n",
       "      <td>0</td>\n",
       "      <td>4</td>\n",
       "      <td>1</td>\n",
       "      <td>0</td>\n",
       "      <td>1</td>\n",
       "      <td>0</td>\n",
       "      <td>0</td>\n",
       "      <td>0</td>\n",
       "      <td>0</td>\n",
       "      <td>0</td>\n",
       "      <td>0</td>\n",
       "      <td>0</td>\n",
       "      <td>1</td>\n",
       "      <td>2</td>\n",
       "      <td>70.20</td>\n",
       "      <td>1626</td>\n",
       "    </tr>\n",
       "    <tr>\n",
       "      <th>5</th>\n",
       "      <td>0</td>\n",
       "      <td>1</td>\n",
       "      <td>0</td>\n",
       "      <td>0</td>\n",
       "      <td>0</td>\n",
       "      <td>7</td>\n",
       "      <td>1</td>\n",
       "      <td>0</td>\n",
       "      <td>1</td>\n",
       "      <td>0</td>\n",
       "      <td>0</td>\n",
       "      <td>0</td>\n",
       "      <td>0</td>\n",
       "      <td>0</td>\n",
       "      <td>0</td>\n",
       "      <td>0</td>\n",
       "      <td>1</td>\n",
       "      <td>2</td>\n",
       "      <td>69.55</td>\n",
       "      <td>3548</td>\n",
       "    </tr>\n",
       "  </tbody>\n",
       "</table>\n",
       "</div>"
      ],
      "text/plain": [
       "   Churn  gender  SeniorCitizen  Partner  Dependents  tenure  PhoneService  \\\n",
       "0      0       0              0        0           1      21             1   \n",
       "1      0       0              0        0           0      54             1   \n",
       "2      1       1              0        1           0       1             0   \n",
       "3      1       1              0        0           0       4             1   \n",
       "5      0       1              0        0           0       7             1   \n",
       "\n",
       "   MultipleLines  InternetService  OnlineSecurity  OnlineBackup  \\\n",
       "0              0                0               2             0   \n",
       "1              2                1               0             2   \n",
       "2              1                0               0             0   \n",
       "3              0                1               0             0   \n",
       "5              0                1               0             0   \n",
       "\n",
       "   DeviceProtection  TechSupport  StreamingTV  StreamingMovies  Contract  \\\n",
       "0                 2            0            0                2         1   \n",
       "1                 0            0            2                2         2   \n",
       "2                 0            0            0                0         0   \n",
       "3                 0            0            0                0         0   \n",
       "5                 0            0            0                0         0   \n",
       "\n",
       "   PaperlessBilling  PaymentMethod  MonthlyCharges  TotalCharges  \n",
       "0                 0              3           64.85           491  \n",
       "1                 1              0           97.20          3510  \n",
       "2                 1              2           23.45          1565  \n",
       "3                 1              2           70.20          1626  \n",
       "5                 1              2           69.55          3548  "
      ]
     },
     "execution_count": 24,
     "metadata": {},
     "output_type": "execute_result"
    }
   ],
   "source": [
    "from sklearn.preprocessing import LabelEncoder\n",
    "\n",
    "label_encoder = LabelEncoder()\n",
    "\n",
    "encoded_cols = []\n",
    "for name in telco_nn.columns:\n",
    "    if telco_nn[name].dtypes=='object':\n",
    "        encoded_cols.append(name)\n",
    "\n",
    "for col in encoded_cols:\n",
    "    telco_nn[col] = label_encoder.fit_transform(telco[col])     \n",
    "\n",
    "telco_nn.head()"
   ]
  },
  {
   "cell_type": "code",
   "execution_count": 25,
   "metadata": {},
   "outputs": [],
   "source": [
    "from sklearn.model_selection import train_test_split\n",
    "\n",
    "y_nn = telco_nn['Churn']\n",
    "telco_data_nn = telco_nn.drop(labels=['Churn'], axis=1)\n",
    "\n",
    "train_data_nn, test_data_nn, y_train_nn, y_test_nn = train_test_split(telco_data_nn, y_nn, train_size=0.75, test_size=0.25)\n",
    "\n",
    "total_train_data_nn = pd.concat([train_data_nn, y_train_nn], axis=1)\n",
    "total_test_data_nn = pd.concat([test_data_nn, y_test_nn], axis=1)"
   ]
  },
  {
   "cell_type": "code",
   "execution_count": 26,
   "metadata": {},
   "outputs": [],
   "source": [
    "cols_nn = ['SeniorCitizen','InternetService', 'OnlineSecurity', 'OnlineBackup', \n",
    "        'DeviceProtection', 'TechSupport', 'StreamingMovies', 'Contract', \n",
    "        'PaperlessBilling', 'PaymentMethod', 'MonthlyCharges', 'TotalCharges',\n",
    "           'PhoneService', 'MultipleLines', 'StreamingTV', 'tenure']"
   ]
  },
  {
   "cell_type": "code",
   "execution_count": 27,
   "metadata": {},
   "outputs": [],
   "source": [
    "training_dataset_nn = (\n",
    "    tf.data.Dataset.from_tensor_slices((tf.cast(total_train_data_nn[cols_nn].values, tf.float32),\n",
    "                                        tf.cast(total_train_data_nn['Churn'].values, tf.int32))))"
   ]
  },
  {
   "cell_type": "code",
   "execution_count": 28,
   "metadata": {},
   "outputs": [],
   "source": [
    "validation_dataset_nn = (\n",
    "    tf.data.Dataset.from_tensor_slices((tf.cast(total_test_data_nn[cols_nn].values, tf.float32),\n",
    "                                        tf.cast(total_test_data_nn['Churn'].values, tf.int32))))"
   ]
  },
  {
   "cell_type": "code",
   "execution_count": 29,
   "metadata": {},
   "outputs": [],
   "source": [
    "model = tf.keras.Sequential()\n",
    "model.add(tf.keras.layers.Dense(7, activation='relu'))\n",
    "model.add(tf.keras.layers.Dense(10, activation='relu'))\n",
    "model.add(tf.keras.layers.Dense(1, activation='sigmoid'))"
   ]
  },
  {
   "cell_type": "code",
   "execution_count": 30,
   "metadata": {},
   "outputs": [],
   "source": [
    "lr = 0.1\n",
    "errors = []\n",
    "\n",
    "optimizer = tf.optimizers.SGD(lr)\n",
    "loss = tf.losses.MeanSquaredError()"
   ]
  },
  {
   "cell_type": "code",
   "execution_count": 31,
   "metadata": {},
   "outputs": [],
   "source": [
    "#model.compile(loss=loss, optimizer=optimizer, metrics=['accuracy'])"
   ]
  },
  {
   "cell_type": "code",
   "execution_count": 32,
   "metadata": {},
   "outputs": [],
   "source": [
    "model.compile(loss=loss, optimizer='adam', metrics=['accuracy'])"
   ]
  },
  {
   "cell_type": "code",
   "execution_count": 33,
   "metadata": {},
   "outputs": [
    {
     "name": "stdout",
     "output_type": "stream",
     "text": [
      "Train for 4218 steps\n",
      "Epoch 1/20\n",
      "4218/4218 [==============================] - 6s 1ms/step - loss: 0.2075 - accuracy: 0.7310\n",
      "Epoch 2/20\n",
      "4218/4218 [==============================] - 6s 1ms/step - loss: 0.2067 - accuracy: 0.7300\n",
      "Epoch 3/20\n",
      "4218/4218 [==============================] - 6s 1ms/step - loss: 0.2054 - accuracy: 0.7288\n",
      "Epoch 4/20\n",
      "4218/4218 [==============================] - 6s 1ms/step - loss: 0.2013 - accuracy: 0.7328\n",
      "Epoch 5/20\n",
      "4218/4218 [==============================] - 6s 1ms/step - loss: 0.2020 - accuracy: 0.7319\n",
      "Epoch 6/20\n",
      "4218/4218 [==============================] - 6s 1ms/step - loss: 0.2019 - accuracy: 0.7317\n",
      "Epoch 7/20\n",
      "4218/4218 [==============================] - 5s 1ms/step - loss: 0.2013 - accuracy: 0.7318\n",
      "Epoch 8/20\n",
      "4218/4218 [==============================] - 5s 1ms/step - loss: 0.2017 - accuracy: 0.7309\n",
      "Epoch 9/20\n",
      "4218/4218 [==============================] - 9s 2ms/step - loss: 0.2017 - accuracy: 0.7313\n",
      "Epoch 10/20\n",
      "4218/4218 [==============================] - 9s 2ms/step - loss: 0.2028 - accuracy: 0.7301\n",
      "Epoch 11/20\n",
      "4218/4218 [==============================] - 8s 2ms/step - loss: 0.2008 - accuracy: 0.7324\n",
      "Epoch 12/20\n",
      "4218/4218 [==============================] - 6s 1ms/step - loss: 0.2016 - accuracy: 0.7317\n",
      "Epoch 13/20\n",
      "4218/4218 [==============================] - 5s 1ms/step - loss: 0.2001 - accuracy: 0.7329\n",
      "Epoch 14/20\n",
      "4218/4218 [==============================] - 6s 1ms/step - loss: 0.1992 - accuracy: 0.7337\n",
      "Epoch 15/20\n",
      "4218/4218 [==============================] - 5s 1ms/step - loss: 0.2006 - accuracy: 0.7323\n",
      "Epoch 16/20\n",
      "4218/4218 [==============================] - 6s 1ms/step - loss: 0.1989 - accuracy: 0.7335\n",
      "Epoch 17/20\n",
      "4218/4218 [==============================] - 6s 1ms/step - loss: 0.1968 - accuracy: 0.7347\n",
      "Epoch 18/20\n",
      "4218/4218 [==============================] - 6s 1ms/step - loss: 0.1956 - accuracy: 0.7346\n",
      "Epoch 19/20\n",
      "4218/4218 [==============================] - 5s 1ms/step - loss: 0.1951 - accuracy: 0.7347\n",
      "Epoch 20/20\n",
      "4218/4218 [==============================] - 5s 1ms/step - loss: 0.1942 - accuracy: 0.7347\n"
     ]
    },
    {
     "data": {
      "text/plain": [
       "[<matplotlib.lines.Line2D at 0x253d8babfc8>]"
      ]
     },
     "execution_count": 33,
     "metadata": {},
     "output_type": "execute_result"
    },
    {
     "data": {
      "image/png": "[encoded data removed]",
      "text/plain": [
       "<Figure size 432x288 with 1 Axes>"
      ]
     },
     "metadata": {
      "needs_background": "light"
     },
     "output_type": "display_data"
    }
   ],
   "source": [
    "import matplotlib.pyplot as plt\n",
    "\n",
    "history = model.fit(training_dataset_nn, epochs=20)\n",
    "plt.plot(history.history['loss'])"
   ]
  },
  {
   "cell_type": "code",
   "execution_count": 34,
   "metadata": {},
   "outputs": [
    {
     "name": "stdout",
     "output_type": "stream",
     "text": [
      "1406/1406 [==============================] - 1s 971us/step - loss: 0.1951 - accuracy: 0.7319\n",
      "test acc: 0.73186344\n"
     ]
    }
   ],
   "source": [
    "results = model.evaluate(validation_dataset_nn)\n",
    "print('test acc:', results[1])"
   ]
  }
 ],
 "metadata": {
  "kernelspec": {
   "display_name": "Python 3",
   "language": "python",
   "name": "python3"
  },
  "language_info": {
   "codemirror_mode": {
    "name": "ipython",
    "version": 3
   },
   "file_extension": ".py",
   "mimetype": "text/x-python",
   "name": "python",
   "nbconvert_exporter": "python",
   "pygments_lexer": "ipython3",
   "version": "3.7.7"
  }
 },
 "nbformat": 4,
 "nbformat_minor": 4
}
